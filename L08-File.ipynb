{
 "cells": [
  {
   "cell_type": "markdown",
   "metadata": {},
   "source": [
    "# 第八讲 文件操作"
   ]
  },
  {
   "cell_type": "markdown",
   "metadata": {},
   "source": [
    "## <font size=5><span id=\"8.1\"> 8.1 文本文件</span></font>"
   ]
  },
  {
   "cell_type": "markdown",
   "metadata": {},
   "source": [
    "### <font size=4><span id=\"8.1.1\"> 8.1.1 打开文件函数 — open</span></font>  \n",
    "\n",
    "- 语法\n",
    "```python\n",
    "# 常用方式\n",
    ">>> file_stream = open(file, mode)\n",
    "# 函数原型\n",
    ">>> file_stream = open(file, mode='r',\n",
    "                    buffering=-1, encoding=None, errors=None,\n",
    "                    newline=None, closefd=True, opener=None)\n",
    "```\n",
    "\n",
    "\n",
    "- 功能 —— 打开文件\n",
    "    - 如果打开成功，则返回文件流对象\n",
    "    - 如果打开失败，则抛出 OSError 异常\n",
    "\n",
    "\n",
    "- 参数\n",
    "    - file 文本或字符串，给定待打开的文件名，或文件号\n",
    "    - mode 指定打开模式，缺省值为 r，表示以只读文本方式打开\n",
    "    - encoding 指定编码方式，缺省值与平台有关，任何 python 支持的编码方式都可传入。详见 codecs 模块\n",
    "\n",
    "\n",
    "- 返回值 —— 文件流（stream）对象"
   ]
  },
  {
   "cell_type": "markdown",
   "metadata": {},
   "source": [
    "### <font size=4><span id=\"8.1.2\"> 8.1.2 打开文件的模式 — 参数 mode</span></font>  \n",
    "\n",
    "\n",
    "- 记忆要点\n",
    "    - r —— read 读\n",
    "    - w —— write 写\n",
    "    - a —— append 添\n",
    "    - \\+ —— 可读写\n",
    "    - b —— binary 二进制"
   ]
  },
  {
   "cell_type": "markdown",
   "metadata": {},
   "source": [
    "#### (1) 打开文件的访问模式\n",
    "\n",
    "<table>\n",
    "<thead>\n",
    "    <tr><th style='text-align:center;' ><strong>访问模式</strong></th><th><strong>说明</strong></th></tr>\n",
    "</thead>\n",
    "<tbody>\n",
    "    <tr><td style='text-align:center;' >r</td><td>以只读方式打开文件。文件的指针将会放在文件的开头。这是默认模式。</td></tr>\n",
    "    <tr><td style='text-align:center;' >w</td><td>打开一个文件只用于写入。<font color=\"red\">如果该文件已存在则将其覆盖</font>。如果该文件不存在，创建新文件。</td></tr>\n",
    "    <tr><td style='text-align:center;' >x</td><td>创建一个新文件，并以写入模式将其打开。</td></tr>\n",
    "    <tr><td style='text-align:center;' >a</td><td>打开文件用于追加。若已存在，指针置于尾部，新内容添加在后。若不存在，创建新文件进行写入。</td></tr>\n",
    "    <tr><td style='text-align:center;' >b</td><td>以二进制模式打开。</td></tr>\n",
    "    <tr><td style='text-align:center;' >t</td><td>以文本模式打开（缺省模式）。</td></tr>\n",
    "    <tr><td style='text-align:center;' >+</td><td>打开文件用于更新，读或写。</td></tr>\n",
    "    <tr><td style='text-align:center;' >U</td><td>以通用新行(newline)模式打开文件(未来将弃用)。</td></tr>\n",
    "</tbody>\n",
    "</table>"
   ]
  },
  {
   "cell_type": "markdown",
   "metadata": {},
   "source": [
    "#### (2) 打开文件的组合模式"
   ]
  },
  {
   "cell_type": "markdown",
   "metadata": {},
   "source": [
    "<table>\n",
    "<thead>\n",
    "    <tr><th style='text-align:center;' ><strong>组合模式</strong></th><th><strong>说明</strong></th></tr>\n",
    "</thead>\n",
    "<tbody>\n",
    "<tr><td style='text-align:center;' >rb</td><td>以二进制只读模式打开文件，指针置于开头，默认模式。</td></tr>\n",
    "    <tr><td style='text-align:center;' >wb</td><td>以二进制写入模式打开文件，若已存在则覆盖，若不存在，则建新文件。</td></tr>\n",
    "    <tr><td style='text-align:center;' >ab</td><td>以二进制追加模式打开文件，若已存在，指针置于结尾，新内容写入在后；若不存在，建新文件进行写入。</td></tr>\n",
    "    <tr><td style='text-align:center;' >r+</td><td>以读写模式打开文件，指针置于开头。</td></tr>\n",
    "    <tr><td style='text-align:center;' >w+</td><td>以读写模式打开文件，若已存在则覆盖，若不存在，创建新文件。</td></tr>\n",
    "    <tr><td style='text-align:center;' >a+</td><td>以追加模式打开文件，若已存在，指针置于结尾；若不存在，创建新文件用于读写。</td></tr>\n",
    "    <tr><td style='text-align:center;' >rb+</td><td>以二进制读写模式打开文件，指针置于开头。</td></tr>\n",
    "    <tr><td style='text-align:center;' >wb+</td><td>以二进制读写模式打开文件，若已存在则覆盖；若不存在，创建新文件。</td></tr>\n",
    "    <tr><td style='text-align:center;' >ab+</td><td>以二进制追加模式打开文件，若已存在，指针置于结尾；若不存在，创建新文件用于读写。</td></tr>\n",
    "</tbody>\n",
    "</table>"
   ]
  },
  {
   "cell_type": "markdown",
   "metadata": {},
   "source": [
    "#### 查看文本文件\n",
    "\n",
    "\n",
    "- files\\chapter08\\ENPoem.txt\n",
    "- files\\chapter08\\CNPoem.txt"
   ]
  },
  {
   "cell_type": "code",
   "execution_count": 1,
   "metadata": {},
   "outputs": [
    {
     "name": "stdout",
     "output_type": "stream",
     "text": [
      "绐楀墠鏄庢湀鍏�\n",
      "鐤戜技鍦颁笂闇�\n",
      "涓惧ご鏈涙槑鏈�\n",
      "浣庡ご鎬濇晠涔�\n"
     ]
    }
   ],
   "source": [
    "# DOS 命令查看，注意到乱码 (utf8)\n",
    "!type files\\chapter08\\CNPoem.txt"
   ]
  },
  {
   "cell_type": "markdown",
   "metadata": {},
   "source": [
    " #### UTF编码\n",
    "<img src = \"images\\chapter08\\utf.jpg\" width = 500>"
   ]
  },
  {
   "cell_type": "markdown",
   "metadata": {},
   "source": [
    "- ANSI\n",
    "    - ANSI是一种字符代码，为使计算机支持更多语言，通常使用 0x00~0x7f 范围的1 个字节来表示 1 个英文字符。\n",
    "    - 超出此范围的使用0x80~0xFFFF来编码，即扩展的ASCII编码。\n",
    "    - 比如：汉字 '中' 在中文操作系统中，使用 [0xD6,0xD0] 这两个字节存储。\n",
    "    - 不同的国家和地区制定了不同的标准，由此产生了 GB2312、GBK、GB18030、Big5、Shift_JIS 等各自的编码标准。\n",
    "    - 这些使用多个字节来代表一个字符的各种汉字延伸编码方式，称为 ANSI 编码。\n",
    "- UTF-8\n",
    "    - 一种可变长度字符编码\n",
    "    - 可以用来表示Unicode标准中的任何字符，而且其编码中的第一个字节仍与ASCII相容，使得原来处理ASCII字符的软件无须或只进行少部分修改后，便可继续使用。\n",
    "    - 成为电子邮件、网页及其他存储或传送文字的应用中，优先采用的编码。"
   ]
  },
  {
   "cell_type": "markdown",
   "metadata": {},
   "source": [
    "<img src=\"images\\chapter08\\encodeing.png\">"
   ]
  },
  {
   "cell_type": "markdown",
   "metadata": {},
   "source": [
    "<img src=\"images\\chapter08\\ASCII_utf8_unicode.jpg\">"
   ]
  },
  {
   "cell_type": "markdown",
   "metadata": {},
   "source": [
    "|char|\tANSI(GBK)|\tANSI(Big5)\t|ANSI(JIS)|\tUnicode\tUTF-8|\n",
    "|-|-|-|-|-|\n",
    "|文\t|0xCEC4|\t0xA4E5|\t0x95B6|\t0x6587|\t0xE69687|\n",
    "\n",
    "- 可以看出，不同ANSI编码之间互不兼容，当信息在国际间交流时，无法将属于两种语言的文字，存储在同一段ANSI编码的文本中。需要将不同的ANSI编码都转换成UTF-8编码，进而存储。"
   ]
  },
  {
   "cell_type": "markdown",
   "metadata": {},
   "source": [
    "### <font size=4><span id=\"8.1.3\"> 8.1.3 文件对象的常用操作方法</span></font> \n",
    "\n",
    "- 最常用的方法如下表\n",
    "\n",
    "\n",
    "\n",
    "<figure>\n",
    "<table>\n",
    "<thead>\n",
    "    <tr><th>文件对象方法</th><th>执行操作</th></tr>\n",
    "</thead>\n",
    "    \n",
    "<tbody>\n",
    "    <tr><td>close()</td><td>关闭文件</td></tr>\n",
    "    <tr><td>read(size == -1)</td><td>从文件读取size个字符，<br>当未给定size或给定负值的时候，读取剩余的所有字符，然后作为字符串返回</td></tr>\n",
    "    <tr><td>readline()</td><td>从文件中读取一行字符串</td></tr>\n",
    "    <tr><td>readlines()</td><td>从文件中读取多行字符串</td></tr>\n",
    "    <tr><td>write(str)</td><td>将字符串 str 写入文件</td></tr>\n",
    "    <tr><td>writelines(seq)</td><td>向文件写入字符串序列seq，seq应该是一个返回字符串的可迭代对象</td></tr>\n",
    "    <tr><td>seek(offset, from)</td><td>在文件中移动文件指针，<br>从from(0代表文件头部，1代表当前位置，2代表文件末尾)偏移offset个字节</td></tr>\n",
    "    <tr><td>tell()</td><td>返回当前在文件中的位置</td></tr>\n",
    "</tbody>\n",
    "</table>\n",
    "</figure>\n",
    "\n",
    "\n",
    "- 了解全部的方法，运行\n",
    "```python\n",
    ">>> dir(file)\n",
    "```"
   ]
  },
  {
   "cell_type": "markdown",
   "metadata": {},
   "source": [
    "#### 8.1.3.1 读全部行函数 — readlines\n",
    "\n",
    "\n",
    "- 语法\n",
    "```python\n",
    ">>> file.readlines()\n",
    "```\n",
    "\n",
    "\n",
    "- 功能 —— 返回所有行组成的列表"
   ]
  },
  {
   "cell_type": "code",
   "execution_count": 2,
   "metadata": {},
   "outputs": [
    {
     "name": "stdout",
     "output_type": "stream",
     "text": [
      "To see a world in a grain of sand,\n",
      "And a heaven in a wild flower,\n",
      "Hold infinity in the palm of your hand,\n",
      "And eternity in an hour."
     ]
    }
   ],
   "source": [
    "# ANSI 编码\n",
    "file = open(\"files/chapter08/ENPoem.txt\", mode='r')\n",
    "\n",
    "for line in file.readlines():\n",
    "    print(line,end=\"\")"
   ]
  },
  {
   "cell_type": "code",
   "execution_count": 3,
   "metadata": {},
   "outputs": [
    {
     "data": {
      "text/plain": [
       "[]"
      ]
     },
     "execution_count": 3,
     "metadata": {},
     "output_type": "execute_result"
    }
   ],
   "source": [
    "# 单独执行 readlines，竟然输出空列表，为什么？\n",
    "file.readlines()"
   ]
  },
  {
   "cell_type": "code",
   "execution_count": 4,
   "metadata": {},
   "outputs": [],
   "source": [
    "# 关闭文件\n",
    "file.close()"
   ]
  },
  {
   "cell_type": "code",
   "execution_count": 5,
   "metadata": {},
   "outputs": [],
   "source": [
    "# 重新打开\n",
    "file = open(\"files/chapter08/ENPoem.txt\", mode='r')"
   ]
  },
  {
   "cell_type": "code",
   "execution_count": 6,
   "metadata": {},
   "outputs": [
    {
     "data": {
      "text/plain": [
       "['To see a world in a grain of sand,\\n',\n",
       " 'And a heaven in a wild flower,\\n',\n",
       " 'Hold infinity in the palm of your hand,\\n',\n",
       " 'And eternity in an hour.']"
      ]
     },
     "execution_count": 6,
     "metadata": {},
     "output_type": "execute_result"
    }
   ],
   "source": [
    "# 单独执行 readlines，这次没有输出空列表，又为什么？\n",
    "file.readlines()"
   ]
  },
  {
   "cell_type": "code",
   "execution_count": 7,
   "metadata": {},
   "outputs": [],
   "source": [
    "# 记住关闭文件是好习惯！！！\n",
    "file.close()"
   ]
  },
  {
   "cell_type": "markdown",
   "metadata": {},
   "source": [
    "#### 打开编码格式为 UTF-8 的文本文件，并逐行输出\n",
    "\n",
    "\n",
    "- 设置参数 encoding=\"UTF-8\"\n",
    "\n",
    "\n",
    "- 问题\n",
    "    - 如何知道文本文件的编码是 \"UTF-8\"？\n",
    "    - 如何更改编码？"
   ]
  },
  {
   "cell_type": "code",
   "execution_count": 9,
   "metadata": {},
   "outputs": [
    {
     "name": "stdout",
     "output_type": "stream",
     "text": [
      "{'encoding': 'utf-8', 'confidence': 0.99, 'language': ''}\n"
     ]
    }
   ],
   "source": [
    "# 利用 chardet 模块查看本文文件的编码\n",
    "# Anaconda 安装时已经自动安装 chardet\n",
    "import chardet\n",
    "file = open(\"files/chapter08/CNPoem.txt\", mode='rb')\n",
    "data = file.read()\n",
    "file.close()\n",
    "result = chardet.detect(data)\n",
    "print(result) "
   ]
  },
  {
   "cell_type": "code",
   "execution_count": 11,
   "metadata": {},
   "outputs": [
    {
     "name": "stdout",
     "output_type": "stream",
     "text": [
      "窗前明月光\n",
      "疑似地上霜\n",
      "举头望明月\n",
      "低头思故乡"
     ]
    }
   ],
   "source": [
    "file = open(\"files/chapter08/CNPoem.txt\", mode='r', encoding=result['encoding']) # UTF-8\n",
    "for line in file.readlines():\n",
    "    print(line, end=\"\")\n",
    "file.close()"
   ]
  },
  {
   "cell_type": "markdown",
   "metadata": {},
   "source": [
    "#### 8.1.3.2 逐次读单行函数 —— readline\n",
    "\n",
    "\n",
    "- 语法\n",
    "```python\n",
    ">>> file.readline()\n",
    "```\n",
    "\n",
    "\n",
    "- 功能 — 从文件指针当前所指位置处，读一单行\n",
    "\n",
    "\n",
    "- 注意：文件指针隐性起作用"
   ]
  },
  {
   "cell_type": "code",
   "execution_count": null,
   "metadata": {},
   "outputs": [],
   "source": [
    "file = open(\"files/chapter08/CNPoem.txt\", mode='r', encoding=\"UTF-8\")"
   ]
  },
  {
   "cell_type": "code",
   "execution_count": null,
   "metadata": {},
   "outputs": [],
   "source": [
    "# 读第一行文本\n",
    "file.readline()"
   ]
  },
  {
   "cell_type": "code",
   "execution_count": null,
   "metadata": {},
   "outputs": [],
   "source": [
    "# 读第二行文本\n",
    "file.readline()"
   ]
  },
  {
   "cell_type": "code",
   "execution_count": null,
   "metadata": {},
   "outputs": [],
   "source": [
    "# 读第三行文本\n",
    "file.readline()"
   ]
  },
  {
   "cell_type": "code",
   "execution_count": null,
   "metadata": {},
   "outputs": [],
   "source": [
    "# 关闭文件，好习惯！\n",
    "file.close()"
   ]
  },
  {
   "cell_type": "markdown",
   "metadata": {},
   "source": [
    "#### 8.1.3.3 逐次读单行函数 —— read\n",
    "\n",
    "\n",
    "- 语法\n",
    "```python\n",
    ">>> file.read(n=-1)\n",
    "```\n",
    "\n",
    "\n",
    "- 功能 — 按字节读取，如果不设置参数，那么会全部读进来，直到文件末尾\n"
   ]
  },
  {
   "cell_type": "code",
   "execution_count": null,
   "metadata": {},
   "outputs": [],
   "source": [
    "file = open(\"files/chapter08/CNPoem.txt\", mode='r', encoding=\"UTF-8\")\n",
    "file.read()"
   ]
  },
  {
   "cell_type": "code",
   "execution_count": null,
   "metadata": {},
   "outputs": [],
   "source": [
    "file.close()"
   ]
  },
  {
   "cell_type": "code",
   "execution_count": null,
   "metadata": {},
   "outputs": [],
   "source": [
    "file = open(\"files/chapter08/CNPoem.txt\", mode='r', encoding=\"UTF-8\")\n",
    "file.read(10)"
   ]
  },
  {
   "cell_type": "code",
   "execution_count": null,
   "metadata": {},
   "outputs": [],
   "source": [
    "file.close()"
   ]
  },
  {
   "cell_type": "markdown",
   "metadata": {},
   "source": [
    "### <font size=4><span id=\"8.1.4\"> 8.1.4 文件的关闭</span></font>  \n",
    "\n",
    "\n",
    "- 调用 close 函数\n",
    "```python\n",
    ">>> file.close()\n",
    "```\n",
    "\n",
    "\n",
    "- 打开文件后，一定要记着关闭，这是好习惯，切记！！！"
   ]
  },
  {
   "cell_type": "markdown",
   "metadata": {},
   "source": [
    "####  文件的读入案例之一：包罗万象的 $\\pi$"
   ]
  },
  {
   "cell_type": "code",
   "execution_count": null,
   "metadata": {},
   "outputs": [],
   "source": [
    "pifile = open(\"files/chapter08/PI.txt\")    # 100 万位圆周率\n",
    "content = pifile.read()\n",
    "print(content)\n",
    "pifile.close()"
   ]
  },
  {
   "cell_type": "code",
   "execution_count": null,
   "metadata": {},
   "outputs": [],
   "source": [
    "# 原始数据处理\n",
    "content = content.replace(' ','')        # 去除有可能的英文空格\n",
    "content = content.replace('\\n','')       # 去除有可能的换行符\n",
    "content = content.replace('\\u3000','')   # 去除有可能的中文空格"
   ]
  },
  {
   "cell_type": "code",
   "execution_count": null,
   "metadata": {},
   "outputs": [],
   "source": [
    "len(content)  # 3 + 点 + 100 万小数"
   ]
  },
  {
   "cell_type": "code",
   "execution_count": null,
   "metadata": {},
   "outputs": [],
   "source": [
    "#你的出生月日在pi里面么？\n",
    "birthday = input(\"输入你的生日的月日mmdd格式：\")\n",
    "if content.find(birthday) > 0:\n",
    "    print(\"Congratulations!\")\n",
    "else:\n",
    "    print(\"Sorry\")"
   ]
  },
  {
   "cell_type": "code",
   "execution_count": null,
   "metadata": {},
   "outputs": [],
   "source": [
    "# 验证任意一个四位数都在pi里面出现"
   ]
  },
  {
   "cell_type": "code",
   "execution_count": null,
   "metadata": {},
   "outputs": [],
   "source": [
    "for each in range(1000,9999): #try 10000~99999\n",
    "    if content.find(str(each)) < 0:\n",
    "        print(str(each)+\" is not included\")\n",
    "        break\n",
    "else:\n",
    "    print(\"All number from 1000 to 9999 are include in PI\")"
   ]
  },
  {
   "cell_type": "markdown",
   "metadata": {},
   "source": [
    "### <font size=4><span id=\"8.1.6\"> 8.1.6 文件的写入</span></font>  \n",
    "\n",
    "\n",
    "- 注意\n",
    "    - 若使用 w 模式，此前文件内容会全部被覆盖\n",
    "    - 若想追加输出，应采用 a 模式"
   ]
  },
  {
   "cell_type": "markdown",
   "metadata": {},
   "source": [
    "#### 向文件写或追加内容"
   ]
  },
  {
   "cell_type": "code",
   "execution_count": null,
   "metadata": {},
   "outputs": [],
   "source": [
    "file_out = open(\"files\\chapter08\\output.txt\",\"w\")\n",
    "file_out.write(\"时间过得好快\\n转眼就到了深秋\\n这是你来同济的第二个年头\\n\")\n",
    "file_out.close()"
   ]
  },
  {
   "cell_type": "code",
   "execution_count": null,
   "metadata": {},
   "outputs": [],
   "source": [
    "!type files\\chapter08\\output.txt"
   ]
  },
  {
   "cell_type": "code",
   "execution_count": null,
   "metadata": {},
   "outputs": [],
   "source": [
    "file_out = open(\"files\\chapter08\\output.txt\",\"a\")    # 以追加模式重新打开文件\n",
    "file_out.write(\"今天是2024年09月09日\\n\")\n",
    "file_out.close()"
   ]
  },
  {
   "cell_type": "code",
   "execution_count": null,
   "metadata": {},
   "outputs": [],
   "source": [
    "!type files\\chapter08\\output.txt"
   ]
  },
  {
   "cell_type": "markdown",
   "metadata": {},
   "source": [
    "####  文件的写入案例：客户和密码\n",
    "- 编写一个程序， 提示用户输入其名字； \n",
    "- 用户作出响应后， 将其名字写入到文件guest.txt中。"
   ]
  },
  {
   "cell_type": "code",
   "execution_count": null,
   "metadata": {},
   "outputs": [],
   "source": [
    "#程序准备.........................\n",
    "guest = open(\"files\\chapter08\\guest.txt\",\"a+\")\n",
    "!type files\\chapter08\\guest.txt"
   ]
  },
  {
   "cell_type": "code",
   "execution_count": null,
   "metadata": {},
   "outputs": [],
   "source": [
    "guest.seek(0, 0)  #没有这句会怎么样？\n",
    "guest_password = guest.readlines()\n",
    "print(guest_password)"
   ]
  },
  {
   "cell_type": "code",
   "execution_count": null,
   "metadata": {},
   "outputs": [],
   "source": [
    "guest.close()"
   ]
  },
  {
   "cell_type": "code",
   "execution_count": null,
   "metadata": {},
   "outputs": [],
   "source": [
    "guest = {}\n",
    "for each in guest_password:\n",
    "    a, b = each.split()\n",
    "    guest[a] = b\n",
    "guest"
   ]
  },
  {
   "cell_type": "code",
   "execution_count": null,
   "metadata": {},
   "outputs": [],
   "source": [
    "#程序准备\n",
    "#程序准备over.........................\n",
    "# 提示用户输入姓名，如果已存在，则提示输入密码，密码正确这提示“登录成功”\n",
    "# 否则提示“密码不正确”\n",
    "# 如果用户名不存在，则提示“用户名不存在”"
   ]
  },
  {
   "cell_type": "code",
   "execution_count": null,
   "metadata": {},
   "outputs": [],
   "source": [
    "guest_file = open(\"files\\chapter08\\guest.txt\",\"a+\")\n",
    "guest_file.seek(0, 0)  #没有这句会怎么样？\n",
    "guest_password = guest_file.readlines()\n",
    "guest_file.close()\n",
    "guest = {}\n",
    "for each in guest_password:\n",
    "    a, b = each.split(\" \")\n",
    "    guest[a] = b\n",
    "\n",
    "name = input(\"请输入用户名：\")\n",
    "if name in guest.keys():\n",
    "    mima = input(\"请输入密码：\")\n",
    "    if mima == guest[name]:\n",
    "        print(\"{0},欢迎您,\\n登陆成功！\".format(name))\n",
    "    else:\n",
    "        print(\"{0},密码输入错误！\".format(name))\n",
    "else:\n",
    "    print(\"用户名{0}不存在,请输入密码创建新用户\".format(name))         # 注意，名字和密码不能带空格\n",
    "    mima = input(\"请输入密码：\")\n",
    "    print(\"用户创建成功，请您记住用户名和密码！\")\n",
    "    # 更新用户名和密码文件\n",
    "    guest = open(\"files\\chapter08\\guest.txt\",\"a+\")\n",
    "    guest.write(name+' '+mima+'\\n')\n",
    "    guest.close()"
   ]
  },
  {
   "cell_type": "markdown",
   "metadata": {},
   "source": [
    "### <font size=4><span id=\"8.1.7\">8.1.7 with open as 文件打开方式</span></font>  \n",
    "\n",
    "\n",
    "- 背景 — 虽然一再强调要关闭打开的文件，可是许多程序员\n",
    "    - 经常忘记关闭打开的文件\n",
    "    - 或者是已经关闭的文件，神经质地再次关闭\n",
    "    - 虽然写了 close()，但是之前的代码出现错误导致程序中断，没有执行到 close()\n",
    "\n",
    "\n",
    "- 怎么办？ —— 采用 with open as 文件打开方式时\n",
    "    - 将在代码块结束后，自动调用 file.close()\n",
    "\n",
    "#### 强烈推荐！！！"
   ]
  },
  {
   "cell_type": "markdown",
   "metadata": {},
   "source": [
    "#### 使用 with open as 方式打开文件的例子"
   ]
  },
  {
   "cell_type": "code",
   "execution_count": null,
   "metadata": {},
   "outputs": [],
   "source": [
    "with open(\"files\\chapter08\\ENPoem.txt\") as file:  # 自动调用file.close()\n",
    "    for each_line in file:\n",
    "        print(\"文件关闭了\" if file.closed else \"文件尚未关闭\")\n",
    "        print(each_line, end='')"
   ]
  },
  {
   "cell_type": "code",
   "execution_count": null,
   "metadata": {},
   "outputs": [],
   "source": [
    "print(\"文件关闭了\" if file.closed else \"文件尚未关闭\")  #测试文件是否关闭"
   ]
  },
  {
   "cell_type": "markdown",
   "metadata": {},
   "source": [
    "## <font size=5><span id=\"8.2\"> 8.2 csv 文件</span></font>"
   ]
  },
  {
   "cell_type": "code",
   "execution_count": null,
   "metadata": {},
   "outputs": [],
   "source": [
    "import csv\n",
    "dir(csv)"
   ]
  },
  {
   "cell_type": "markdown",
   "metadata": {},
   "source": [
    "### <font size=4><span id=\"8.2.1\"> 8.2.1 csv 文件读操作</span></font>  \n",
    "\n",
    "\n",
    "- 语法\n",
    "```python\n",
    ">>> csv_file = csv.reader(iterable[, dialect='excel'][, optional keyword args])\n",
    ">>> for row in csv_file:\n",
    "           process(row)\n",
    "```"
   ]
  },
  {
   "cell_type": "markdown",
   "metadata": {},
   "source": [
    "- 逗号分隔值（Comma-Separated Values，CSV，有时也称为字符分隔值，因为分隔字符也可以不是逗号），其文件以纯文本形式存储表格数据（数字和文本）。\n",
    "- 纯文本意味着该文件是一个字符序列，不含必须像二进制数字那样被解读的数据。\n",
    "- CSV文件由任意数目的记录组成，记录间以某种换行符分隔；每条记录由字段组成，字段间的分隔符是其它字符或字符串，最常见的是逗号或制表符。"
   ]
  },
  {
   "cell_type": "markdown",
   "metadata": {},
   "source": [
    "### <font size=4><span id=\"8.2.2\"> 8.2.2 csv 文件写操作</span></font>  \n",
    "\n",
    "\n",
    "- 语法\n",
    "```python\n",
    ">>> csv_writer = csv.writer (fileobj [, dialect='excel'][, optional keyword args])\n",
    ">>> for row in rows:\n",
    "           csv_writer.writerow(row)\n",
    "```\n",
    "- 或\n",
    "```python\n",
    ">>> csv_writer = csv.writer (fileobj [, dialect='excel'][, optional keyword args])\n",
    ">>> csv_writer.writerows(rows)\n",
    "```\n"
   ]
  },
  {
   "cell_type": "markdown",
   "metadata": {},
   "source": [
    "### 示例：奥运会数据分析"
   ]
  },
  {
   "cell_type": "markdown",
   "metadata": {},
   "source": [
    "#### 1. 小试身手：男女运动员比例"
   ]
  },
  {
   "cell_type": "code",
   "execution_count": 43,
   "metadata": {},
   "outputs": [],
   "source": [
    "# 打开文件，读取所有内容\n",
    "import csv\n",
    "with open(r\"files\\chapter08\\Athletes_summer_games.csv\", 'r', encoding = 'utf-8') as f:\n",
    "    csv_reader = csv.reader(f)\n",
    "    csv_list = []\n",
    "    for each in csv_reader:\n",
    "        csv_list.append(each)\n",
    "        \n",
    "header = csv_list[0]\n",
    "data = csv_list[1:len(csv_list)]"
   ]
  },
  {
   "cell_type": "code",
   "execution_count": 44,
   "metadata": {},
   "outputs": [],
   "source": [
    "# 文件中包含了多少届奥运会？\n",
    "years = []\n",
    "for each in data:\n",
    "    if (each[6] not in years):\n",
    "        years.append(each[6])\n",
    "years.sort()  # games保存了文件中所有奥运会的年份"
   ]
  },
  {
   "cell_type": "code",
   "execution_count": null,
   "metadata": {},
   "outputs": [],
   "source": [
    "# 接下来怎么处理？\n",
    "# 再次遍历文件，把参加同一届奥运会的男、女运动员筛选出来，分别放入到列表中\n",
    "# 注意：文件中是按照每一个 event（小项） 来记录的，因此存在同一个运动员的情况（例如，XX同时参加了乒乓球男单、男团，文件中就会存在两条记录）\n",
    "# 因此，在筛选的基础上，需要去除重复的运动员"
   ]
  },
  {
   "cell_type": "code",
   "execution_count": 33,
   "metadata": {},
   "outputs": [],
   "source": [
    "female_athlete_names = {}      # key = year, value = all female athlete names\n",
    "male_athlete_names = {}\n",
    "# 初始化\n",
    "for year in years:\n",
    "    female_athlete_names[year] = []\n",
    "    male_athlete_names[year] = []\n",
    "\n",
    "for each in data:\n",
    "    year = each[6]\n",
    "    sex = each[1]\n",
    "    name = each[0]\n",
    "    if sex == 'M':\n",
    "        male_athlete_names[year].append(name)\n",
    "    else:\n",
    "        female_athlete_names[year].append(name)\n",
    "\n",
    "# 去重\n",
    "for year in female_athlete_names.keys():\n",
    "    female_athlete_names[year] = list(set(female_athlete_names[year]))\n",
    "    male_athlete_names[year] = list(set(male_athlete_names[year]))\n",
    "\n",
    "# 统计人数\n",
    "female_athlete_count = [];\n",
    "male_athlete_count = [];\n",
    "for year in female_athlete_names.keys():\n",
    "    female_athlete_count.append(len(female_athlete_names[year]))\n",
    "    male_athlete_count.append(len(male_athlete_names[year]))\n",
    "\n",
    "# 比例\n",
    "female_athlete_ratio = [];\n",
    "male_athlete_ratio = [];\n",
    "for i in range(len(female_athlete_count)):\n",
    "    female_athlete_ratio.append(female_athlete_count[i]/(female_athlete_count[i]+male_athlete_count[i]))\n",
    "    male_athlete_ratio.append(male_athlete_count[i]/(female_athlete_count[i]+male_athlete_count[i]))"
   ]
  },
  {
   "cell_type": "code",
   "execution_count": 37,
   "metadata": {},
   "outputs": [
    {
     "name": "stderr",
     "output_type": "stream",
     "text": [
      "C:\\Users\\panzichao\\AppData\\Local\\Temp\\ipykernel_9172\\687159338.py:21: UserWarning: FigureCanvasAgg is non-interactive, and thus cannot be shown\n",
      "  fig.show()\n"
     ]
    },
    {
     "data": {
      "image/png": "[encoded data removed]",
      "text/plain": [
       "<Figure size 3000x500 with 1 Axes>"
      ]
     },
     "metadata": {},
     "output_type": "display_data"
    }
   ],
   "source": [
    "# 可视化\n",
    "import numpy as np\n",
    "import matplotlib\n",
    "import matplotlib.pyplot as plt\n",
    "\n",
    "matplotlib.rc('font', family='SimHei', weight='bold')\n",
    "plt.rcParams['axes.unicode_minus'] = False\n",
    "\n",
    "fig, ax = plt.subplots(figsize=(30, 5), dpi=100)\n",
    "width = 0.5\n",
    "ax.bar(np.arange(len(female_athlete_ratio)), female_athlete_ratio, width=width, tick_label=years, label=\"Female\")\n",
    "ax.bar(np.arange(len(male_athlete_ratio)), male_athlete_ratio, bottom=female_athlete_ratio, \\\n",
    "       width=width, tick_label=years, label=\"Male\")\n",
    "plt.yticks(fontsize=20)\n",
    "plt.xticks(fontsize=20)\n",
    "plt.legend(loc='upper right', fontsize=20)\n",
    "fig.show()"
   ]
  },
  {
   "cell_type": "markdown",
   "metadata": {},
   "source": [
    "#### 2. 来点难度：各代表团的优势项目\n",
    "\n",
    "- 奥运会比赛：\n",
    "  - 大项（sport），如：田径、乒乓球、跳水、游泳……\n",
    "  - 小项（event），如：男子100米、乒乓球男子单打……\n",
    "  - 一般一个小项产生一块金牌（有过并列冠军，发两块金牌的情况）\n",
    "- 想一想：怎样才算是优势项目"
   ]
  },
  {
   "cell_type": "code",
   "execution_count": 91,
   "metadata": {},
   "outputs": [],
   "source": [
    "# 打开文件，读取所有内容\n",
    "import csv\n",
    "with open(r\"files\\chapter08\\Athletes_summer_games.csv\", 'r', encoding = 'utf-8') as f:\n",
    "    csv_reader = csv.reader(f)\n",
    "    csv_list = []\n",
    "    for each in csv_reader:\n",
    "        csv_list.append(each)\n",
    "        \n",
    "header = csv_list[0]\n",
    "data = csv_list[1:len(csv_list)]\n",
    "\n",
    "# 文件中包含了多少届奥运会？\n",
    "years = []\n",
    "for each in data:\n",
    "    if (each[6] not in years):\n",
    "        years.append(each[6])\n",
    "years.sort()  # games保存了文件中所有奥运会的年份"
   ]
  },
  {
   "cell_type": "code",
   "execution_count": 96,
   "metadata": {},
   "outputs": [],
   "source": [
    "# 每届奥运会大项、小项设置都有可能不同，需要先筛选、统计    \n",
    "# 这个字典的结构有点复杂，key = year，value = {}（嵌套一个列表，key = sport，value = [event_with_gold_medal]）\n",
    "all_events = {}\n",
    "gold_events = {}\n",
    "for year in years:\n",
    "    gold_events[year] = {}\n",
    "    all_events[year] = {}\n",
    "for each in data:\n",
    "    year = each[6]\n",
    "    sport = each[9]\n",
    "    gold_events[year][sport] = []    # 每一届奥运会，某代表团每个大项中拿到金牌的小项名称\n",
    "    all_events[year][sport] = []   # 每一届奥运会，每个大项中包含的所有小项名称\n",
    "\n",
    "# 所谓优势项目，不在于某个 sport 中得了多少块金牌（绝对值）\n",
    "# 而是某个 sport 中金牌数占这个 sport 中所有金牌的比例（相对值）\n",
    "# 如果这个比例等于 1，则表明在这个 sport 中占据统治地位\n",
    "target_noc = 'CHN'\n",
    "for each in data:\n",
    "    noc = each[4]\n",
    "    year = each[6]\n",
    "    sport = each[9]\n",
    "    event = each[10]\n",
    "    medal = each[11]\n",
    "    if (event not in all_events[year][sport]):\n",
    "        all_events[year][sport].append(event)\n",
    "    if (noc == target_noc) and (medal == 'Gold') and (event not in gold_events[year][sport]):\n",
    "        gold_events[year][sport].append(event)"
   ]
  },
  {
   "cell_type": "code",
   "execution_count": 97,
   "metadata": {},
   "outputs": [],
   "source": [
    "# 接下来，可以计算出每一届奥运会每一个大项中，拿到的金牌数占这个大项所有金牌的比例\n",
    "sport_gold_ratio = {}\n",
    "for year in years:\n",
    "    sport_gold_ratio[year] = {}\n",
    "for each in data:\n",
    "    year = each[6]\n",
    "    sport = each[9]\n",
    "    sport_gold_ratio[year][sport] = len(gold_events[year][sport]) * 1.0 / len(all_events[year][sport])"
   ]
  },
  {
   "cell_type": "code",
   "execution_count": 100,
   "metadata": {},
   "outputs": [
    {
     "name": "stdout",
     "output_type": "stream",
     "text": [
      "1896 Tennis                :0.000 Athletics             :0.000 Swimming              :0.000 Gymnastics            :0.000 \n",
      "1900 Tug-Of-War            :0.000 Gymnastics            :0.000 Golf                  :0.000 Rowing                :0.000 \n",
      "1904 Rowing                :0.000 Golf                  :0.000 Swimming              :0.000 Athletics             :0.000 \n",
      "1906 Football              :0.000 Gymnastics            :0.000 Athletics             :0.000 Rowing                :0.000 \n",
      "1908 Gymnastics            :0.000 Fencing               :0.000 Boxing                :0.000 Athletics             :0.000 \n",
      "1912 Swimming              :0.000 Athletics             :0.000 Fencing               :0.000 Sailing               :0.000 \n",
      "1920 Football              :0.000 Swimming              :0.000 Gymnastics            :0.000 Athletics             :0.000 \n",
      "1924 Swimming              :0.000 Athletics             :0.000 Cycling               :0.000 Boxing                :0.000 \n",
      "1928 Athletics             :0.000 Football              :0.000 Fencing               :0.000 Art Competitions      :0.000 \n",
      "1932 Athletics             :0.000 Art Competitions      :0.000 Fencing               :0.000 Cycling               :0.000 \n",
      "1936 Athletics             :0.000 Shooting              :0.000 Swimming              :0.000 Modern Pentathlon     :0.000 \n",
      "1948 Gymnastics            :0.000 Art Competitions      :0.000 Shooting              :0.000 Boxing                :0.000 \n",
      "1952 Swimming              :0.000 Gymnastics            :0.000 Shooting              :0.000 Diving                :0.000 \n",
      "1956 Shooting              :0.000 Cycling               :0.000 Weightlifting         :0.000 Swimming              :0.000 \n",
      "1960 Shooting              :0.000 Weightlifting         :0.000 Football              :0.000 Gymnastics            :0.000 \n",
      "1964 Wrestling             :0.000 Weightlifting         :0.000 Athletics             :0.000 Rowing                :0.000 \n",
      "1968 Sailing               :0.000 Boxing                :0.000 Fencing               :0.000 Athletics             :0.000 \n",
      "1972 Sailing               :0.000 Boxing                :0.000 Athletics             :0.000 Football              :0.000 \n",
      "1976 Athletics             :0.000 Sailing               :0.000 Canoeing              :0.000 Weightlifting         :0.000 \n",
      "1980 Sailing               :0.000 Athletics             :0.000 Rowing                :0.000 Football              :0.000 \n",
      "1984 Volleyball            :0.500 Weightlifting         :0.400 Gymnastics            :0.357 Shooting              :0.273 \n",
      "1988 Diving                :0.500 Table Tennis          :0.500 Gymnastics            :0.071 Hockey                :0.000 \n",
      "1992 Diving                :0.750 Table Tennis          :0.750 Shooting              :0.154 Gymnastics            :0.143 \n",
      "1996 Table Tennis          :1.000 Diving                :0.750 Badminton             :0.200 Weightlifting         :0.200 \n",
      "2000 Table Tennis          :1.000 Badminton             :0.800 Diving                :0.625 Weightlifting         :0.333 \n",
      "2004 Table Tennis          :0.750 Diving                :0.750 Badminton             :0.600 Volleyball            :0.500 \n",
      "2008 Table Tennis          :1.000 Trampolining          :1.000 Diving                :0.875 Gymnastics            :0.643 \n",
      "2012 Badminton             :1.000 Table Tennis          :1.000 Diving                :0.750 Trampolining          :0.500 \n",
      "2016 Table Tennis          :1.000 Diving                :0.875 Volleyball            :0.500 Badminton             :0.400 \n",
      "2020 Diving                :0.875 Table Tennis          :0.800 Weightlifting         :0.500 Trampoline Gymnastics :0.500 \n"
     ]
    }
   ],
   "source": [
    "# 现在，可以输出一些有趣的结果了\n",
    "# 比如，每一届奥运会，按照 sport_gold_ratio 排序并输出\n",
    "\n",
    "for year in years:\n",
    "    ratios = []\n",
    "    for k,v in sport_gold_ratio[year].items():\n",
    "        ratios.append((k, v))\n",
    "    # 排序\n",
    "    ratios.sort(key=lambda x:x[1], reverse=True)\n",
    "    # 输出前几名\n",
    "    print(f'{year:5s}', end='')\n",
    "    for i in range(4):\n",
    "        print(f'{ratios[i][0]:22s}:{ratios[i][1]:.3f}', end=' ')\n",
    "    print('')"
   ]
  },
  {
   "cell_type": "code",
   "execution_count": 110,
   "metadata": {},
   "outputs": [
    {
     "data": {
      "image/png": "[encoded data removed]",
      "text/plain": [
       "<Figure size 3000x1000 with 1 Axes>"
      ]
     },
     "metadata": {},
     "output_type": "display_data"
    }
   ],
   "source": [
    "# 比如，某代表团优势项目的历年变化情况\n",
    "target_sport = 'Shooting'\n",
    "ratios = [0] * len(years)\n",
    "for i in range(len(years)):\n",
    "    year = years[i]\n",
    "    for k,v in sport_gold_ratio[year].items():\n",
    "        if (k == target_sport):\n",
    "            ratios[i] = v\n",
    "\n",
    "# 画图\n",
    "import numpy as np\n",
    "import matplotlib.pyplot as plt\n",
    "fig = plt.figure(figsize = (30,10))\n",
    "plt.bar(years,ratios,0.7)\n",
    "plt.xticks(fontsize=20)\n",
    "plt.yticks(fontsize=20)\n",
    "plt.grid()  # 生成网格"
   ]
  },
  {
   "cell_type": "markdown",
   "metadata": {},
   "source": [
    "### <font size=4><span id=\"8.2.3\"> 8.2.3 制作 Bar Chart Race</span></font>  "
   ]
  },
  {
   "cell_type": "markdown",
   "metadata": {},
   "source": [
    "\n",
    "网址：app.flourish.studio\n",
    "\n",
    "我们要做什么：\n",
    "\n",
    " - 原始数据的格式 --> Python --> flourish 要求的格式\n",
    "\n",
    "剩下的交给 flourish 完成"
   ]
  },
  {
   "cell_type": "markdown",
   "metadata": {},
   "source": [
    "### 案例一 全球主要国家/地区的GDP统计"
   ]
  },
  {
   "cell_type": "code",
   "execution_count": 114,
   "metadata": {},
   "outputs": [],
   "source": [
    "import csv\n",
    "import openpyxl as pxl\n",
    "\n",
    "with open(r\"files\\chapter08\\gdp_1960_2020.csv\", 'r', encoding = 'utf-8') as f:\n",
    "    csv_reader = csv.reader(f)\n",
    "    raw_data = []\n",
    "    for each in csv_reader:\n",
    "        raw_data.append(each)\n",
    "        \n",
    "header = raw_data[0]\n",
    "raw_data = raw_data[1:len(raw_data)]\n",
    "\n",
    "# 去除错误数据和空数据\n",
    "exist_wrong_record = True\n",
    "while (exist_wrong_record == True):\n",
    "    exist_wrong_record = False\n",
    "    for record in raw_data:\n",
    "        if (('N/A') in record) or ('' in record):\n",
    "            exist_wrong_record = True\n",
    "            break\n",
    "    idx = raw_data.index(record)\n",
    "    del raw_data[idx]\n",
    "\n",
    "# 原始数据包含多少年\n",
    "years = []\n",
    "for record in raw_data:\n",
    "    years.append(record[0])\n",
    "years = sorted(set(years))\n",
    "\n",
    "# 原始数据包含多少个国家/地区\n",
    "countries = []\n",
    "for record in raw_data:\n",
    "    countries.append(record[2])\n",
    "countries = sorted(set(countries))\n",
    "\n",
    "gdp = {}\n",
    "for year in years:\n",
    "    gdp[year] = {}\n",
    "    for country in countries:\n",
    "        gdp[year][country] = 0\n",
    "\n",
    "for record in raw_data:\n",
    "    year = record[0]\n",
    "    country = record[2]\n",
    "    gdp[year][country] = float(record[4])\n",
    "\n",
    "# 写入到 xlsx 文件中\n",
    "wb = pxl.Workbook()                # 新建一个 xlsx 文件\n",
    "ws = wb.active # 激活工作表（创建 xlsx，系统会默认创建一个 sheet1 工作表\n",
    "ws.cell(row=1, column=1, value='Country/Region')\n",
    "for i in range(len(years)):\n",
    "    year = years[i]\n",
    "    ws.cell(row=1, column=i+2, value=year)\n",
    "\n",
    "for i in range(len(countries)):\n",
    "    country = countries[i]\n",
    "    ws.cell(row=i+2, column=1, value=country)\n",
    "\n",
    "for i in range(len(countries)):\n",
    "    country = countries[i]\n",
    "    for j in range(len(years)):\n",
    "        year = years[j]\n",
    "        ws.cell(row=i+2, column=j+2, value=gdp[year][country]/100000000)\n",
    "    \n",
    "wb.save(r'files\\chapter08\\gdp_flourish_data.xlsx')\n",
    "wb.close()"
   ]
  },
  {
   "cell_type": "markdown",
   "metadata": {},
   "source": [
    "### 案例二 不同游戏平台的游戏销量"
   ]
  },
  {
   "cell_type": "code",
   "execution_count": 115,
   "metadata": {},
   "outputs": [],
   "source": [
    "import csv\n",
    "import openpyxl as pxl\n",
    "\n",
    "with open(\"files/chapter08/Video_Games_Sales.csv\", 'r') as f:\n",
    "    csv_reader = csv.reader(f)\n",
    "    raw_data = []\n",
    "    for each in csv_reader:\n",
    "        raw_data.append(each)\n",
    "        \n",
    "header = raw_data[0]\n",
    "raw_data = raw_data[1:len(raw_data)]\n",
    "\n",
    "# 去除错误数据和空数据\n",
    "exist_wrong_record = True\n",
    "while (exist_wrong_record == True):\n",
    "    exist_wrong_record = False\n",
    "    for record in raw_data:\n",
    "        if (('N/A') in record) or ('' in record):\n",
    "            exist_wrong_record = True\n",
    "            break\n",
    "    idx = raw_data.index(record)\n",
    "    del raw_data[idx]\n",
    "\n",
    "# 原始数据包含多少年\n",
    "years = []\n",
    "for record in raw_data:\n",
    "    years.append(record[2])\n",
    "years = sorted(set(years))\n",
    "\n",
    "# 原始数据包含多少个平台\n",
    "platforms = []\n",
    "for record in raw_data:\n",
    "    platforms.append(record[1])\n",
    "platforms = sorted(set(platforms))\n",
    "\n",
    "platform_global_sales = {}\n",
    "for year in years:\n",
    "    platform_global_sales[year] = {}\n",
    "    for platform in platforms:\n",
    "        platform_global_sales[year][platform] = 0\n",
    "\n",
    "for record in raw_data:\n",
    "    platform = record[1]\n",
    "    year = record[2]\n",
    "    global_sales = record[9]\n",
    "    platform_global_sales[year][platform] += float(global_sales)\n",
    "\n",
    "# 市场占有率\n",
    "platform_global_market_shares = {}\n",
    "for year in years:\n",
    "    platform_global_market_shares[year] = {}\n",
    "    count = 0.0\n",
    "    for platform in platforms:\n",
    "        count += float(platform_global_sales[year][platform])\n",
    "    for platform in platforms:\n",
    "        platform_global_market_shares[year][platform] = platform_global_sales[year][platform] / count\n",
    "    \n",
    "# 写入到 xlsx 文件中\n",
    "wb = pxl.Workbook()                # 新建一个 xlsx 文件\n",
    "ws = wb.active # 激活工作表（创建 xlsx，系统会默认创建一个 sheet1 工作表\n",
    "ws.cell(row=1, column=1, value='Platform')\n",
    "for i in range(len(years)):\n",
    "    year = years[i]\n",
    "    ws.cell(row=1, column=i+2, value=year)\n",
    "\n",
    "for i in range(len(platforms)):\n",
    "    platform = platforms[i]\n",
    "    ws.cell(row=i+2, column=1, value=platform)\n",
    "\n",
    "for i in range(len(platforms)):\n",
    "    platform = platforms[i]\n",
    "    for j in range(len(years)):\n",
    "        year = years[j]\n",
    "        ws.cell(row=i+2, column=j+2, value=platform_global_market_shares[year][platform])\n",
    "    \n",
    "wb.save('files/chapter08/Video_Games_Sales_flourish_data.xlsx')\n",
    "wb.close()"
   ]
  },
  {
   "cell_type": "markdown",
   "metadata": {},
   "source": [
    "## <font size=5><span id=\"8.3\"> 8.3 二进制文件读取（pickle模块）</span></font>"
   ]
  },
  {
   "cell_type": "markdown",
   "metadata": {},
   "source": [
    "- pickle.dump(obj, file, [,protocol])   \n",
    "    - 函数的功能：将obj对象序列化存入已经打开的file中\n",
    "    - protocal：如果该项省略，则默认为0。如果为负值或HIGHEST_PROTOCOL，则使用最高的协议版本。\n",
    "- pickle.load(file)\n",
    "    - 函数的功能：将file中的对象序列化读出。\n"
   ]
  },
  {
   "cell_type": "code",
   "execution_count": 16,
   "metadata": {
    "scrolled": true
   },
   "outputs": [],
   "source": [
    "import pickle\n",
    "myList = {\"姓名\":\"潘子超\", \"性别\":\"男\", \"本科毕业学校\":\"同济大学\"}\n",
    "pickleFile = open(\"files/chapter08/MyList.bin\",'wb')\n",
    "pickle.dump(myList, pickleFile)\n",
    "pickleFile.close()\n",
    "# 看看生成的文件"
   ]
  },
  {
   "cell_type": "code",
   "execution_count": 17,
   "metadata": {},
   "outputs": [
    {
     "name": "stdout",
     "output_type": "stream",
     "text": [
      "{'姓名': '潘子超', '性别': '男', '本科毕业学校': '同济大学'}\n"
     ]
    }
   ],
   "source": [
    "import pickle\n",
    "pickleFile = open(\"files/chapter08/MyList.bin\",'rb')\n",
    "myList = pickle.load(pickleFile)\n",
    "pickleFile.close()\n",
    "print(myList)"
   ]
  },
  {
   "cell_type": "code",
   "execution_count": 18,
   "metadata": {},
   "outputs": [],
   "source": [
    "import pickle  \n",
    "dataList = [[1, 1, 'yes'],  \n",
    "            [1, 1, 'yes'],  \n",
    "            [1, 0, 'no'],  \n",
    "            [0, 1, 'no'],  \n",
    "            [0, 1, 'no']]  \n",
    "dataDic = { 0: [1, 2, 3, 4],  \n",
    "            1: ('a', 'b'),  \n",
    "            2: {'c':'yes','d':'no'}} \n",
    "fw = open('files\\chapter08\\dataFile.txt','wb')\n",
    "pickle.dump(dataList, fw) \n",
    "pickle.dump(dataDic, fw)  \n",
    "fw.close() "
   ]
  },
  {
   "cell_type": "code",
   "execution_count": 19,
   "metadata": {
    "scrolled": true
   },
   "outputs": [
    {
     "name": "stdout",
     "output_type": "stream",
     "text": [
      "[[1, 1, 'yes'], [1, 1, 'yes'], [1, 0, 'no'], [0, 1, 'no'], [0, 1, 'no']]\n",
      "{0: [1, 2, 3, 4], 1: ('a', 'b'), 2: {'c': 'yes', 'd': 'no'}}\n"
     ]
    }
   ],
   "source": [
    "#使用load()将数据从文件中序列化读出  \n",
    "fr = open('files\\chapter08\\dataFile.txt','rb')  \n",
    "data1 = pickle.load(fr)  \n",
    "print(data1)  \n",
    "data2 = pickle.load(fr)  \n",
    "print(data2)  \n",
    "fr.close()"
   ]
  },
  {
   "cell_type": "markdown",
   "metadata": {},
   "source": [
    "## <font size=5><span id=\"8.5\"> 8.5 扩展学习 — 其它读取模块（自学）</span></font>\n",
    "\n",
    "\n",
    "- io — 处理流的核心工具 [(官网)](https://docs.python.org/zh-cn/3.8/library/io.html)\n",
    "- xlrd — 读 Excel 文件 [(官网)](https://github.com/python-excel/xlrd)\n",
    "- xlwt — 写 Excel 文件 [(官网)](https://github.com/python-excel/xlwt)\n",
    "- pdfminer — 读 pdf 文件中的数据文本 [(官网)](https://github.com/euske/pdfminer)\n",
    "- lxml — 处理 HTML 和 XML 文件 [(官网)](https://lxml.de/)\n",
    "- codecs — 支持多国语言的处理，面向任意编码 [(官网)](https://docs.python.org/zh-cn/3.8/library/codecs.html)\n",
    "- json — 处理 json 文件 [(官网)](https://docs.python.org/zh-cn/3.8/library/json.html)"
   ]
  },
  {
   "cell_type": "markdown",
   "metadata": {},
   "source": [
    "### Kaggle 数据集\n",
    "https://www.kaggle.com/"
   ]
  }
 ],
 "metadata": {
  "celltoolbar": "Raw Cell Format",
  "kernelspec": {
   "display_name": "Python 3 (ipykernel)",
   "language": "python",
   "name": "python3"
  },
  "language_info": {
   "codemirror_mode": {
    "name": "ipython",
    "version": 3
   },
   "file_extension": ".py",
   "mimetype": "text/x-python",
   "name": "python",
   "nbconvert_exporter": "python",
   "pygments_lexer": "ipython3",
   "version": "3.11.7"
  }
 },
 "nbformat": 4,
 "nbformat_minor": 4
}
